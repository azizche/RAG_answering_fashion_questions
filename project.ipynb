{
 "cells": [
  {
   "cell_type": "markdown",
   "id": "124e5672",
   "metadata": {},
   "source": [
    "# Custom Chatbot Project"
   ]
  },
  {
   "cell_type": "markdown",
   "id": "53f2fd02",
   "metadata": {},
   "source": [
    "This notebook presents a Retrieval-Augmented Generation (RAG) system for the fashion domain. It uses a fashion dataset to retrieve the most relevant information for a query and feeds it as context to a GPT-based model. This approach enhances response quality by combining precise retrieval with fluent generation."
   ]
  },
  {
   "cell_type": "markdown",
   "id": "a63d4c5f",
   "metadata": {},
   "source": [
    "## Data Wrangling\n"
   ]
  },
  {
   "cell_type": "code",
   "execution_count": 62,
   "id": "ed0386af",
   "metadata": {},
   "outputs": [],
   "source": [
    "import pandas as pd\n",
    "import openai\n",
    "import numpy as np\n",
    "from openai.embeddings_utils import distances_from_embeddings, get_embedding\n"
   ]
  },
  {
   "cell_type": "code",
   "execution_count": 29,
   "id": "c69b83a1",
   "metadata": {},
   "outputs": [
    {
     "data": {
      "text/plain": [
       "Index(['URL', 'Trends', 'Source'], dtype='object')"
      ]
     },
     "execution_count": 29,
     "metadata": {},
     "output_type": "execute_result"
    }
   ],
   "source": [
    "df= pd.read_csv(\"data/2023_fashion_trends.csv\")\n",
    "df.columns"
   ]
  },
  {
   "cell_type": "code",
   "execution_count": 30,
   "id": "0a595980",
   "metadata": {},
   "outputs": [],
   "source": [
    "df=df.rename(columns={\"Trends\":\"text\"}).drop(['Source','URL'],axis=1)"
   ]
  },
  {
   "cell_type": "markdown",
   "id": "ae769871",
   "metadata": {},
   "source": [
    "## Custom Query Completion\n",
    "\n"
   ]
  },
  {
   "cell_type": "code",
   "execution_count": 66,
   "id": "feab7987",
   "metadata": {},
   "outputs": [],
   "source": [
    "prompt_template = \"\"\"\n",
    "Answer the question based on the context below, and if the \n",
    "question can't be answered based on the context, say \n",
    "\"I don't know\"\n",
    "\n",
    "Context: \n",
    "\n",
    "{}\n",
    "\n",
    "---\n",
    "\n",
    "Question: {}\n",
    "Answer:\"\"\""
   ]
  },
  {
   "cell_type": "code",
   "execution_count": 79,
   "id": "582f0656",
   "metadata": {},
   "outputs": [],
   "source": [
    "EMBEDDING_MODEL_NAME = \"text-embedding-ada-002\"\n",
    "COMPLETION_MODEL_NAME = \"gpt-3.5-turbo-instruct\"\n",
    "token_limit=150\n",
    "batch_size = 100\n",
    "embeddings = []\n",
    "for i in range(0, len(df), batch_size):\n",
    "    # Send text data to OpenAI model to get embeddings\n",
    "    response = openai.Embedding.create(\n",
    "        input=df.iloc[i:i+batch_size][\"text\"].tolist(),\n",
    "        engine=EMBEDDING_MODEL_NAME\n",
    "    )\n",
    "\n",
    "    # Add embeddings to list\n",
    "    embeddings.extend([data[\"embedding\"] for data in response[\"data\"]])"
   ]
  },
  {
   "cell_type": "code",
   "execution_count": 80,
   "id": "091441db",
   "metadata": {},
   "outputs": [],
   "source": [
    "# Add embeddings list to dataframe\n",
    "df[\"embeddings\"] = embeddings"
   ]
  },
  {
   "cell_type": "code",
   "execution_count": 81,
   "id": "49b6a30f",
   "metadata": {},
   "outputs": [],
   "source": [
    "def calculate_similarity(query,data):\n",
    "    return distances_from_embeddings(query,data,distance_metric='cosine')"
   ]
  },
  {
   "cell_type": "code",
   "execution_count": 100,
   "id": "8b6e1f75",
   "metadata": {},
   "outputs": [],
   "source": [
    "def query_openai(query,df,k=3,token_limit=token_limit):\n",
    "    query_embedding=get_embedding(query, engine=EMBEDDING_MODEL_NAME)\n",
    "    similaritites=calculate_similarity(query_embedding,df['embeddings'].values)\n",
    "    top_k_candidates=df['text'].iloc[np.argsort(similaritites)][:k].to_list()\n",
    "    token_limit_copy=token_limit\n",
    "    token_limit_copy-=len(prompt_template)+len(query)\n",
    "    for i,cand in enumerate(top_k_candidates):\n",
    "        if token_limit_copy-len(cand)>=0:\n",
    "            token_limit_copy-=len(cand)\n",
    "        else:\n",
    "            break\n",
    "    final_prompt=prompt_template.format(\"\\n\\n###\\n\\n\".join(top_k_candidates),query)\n",
    "    response=openai.Completion.create(model=COMPLETION_MODEL_NAME,\n",
    "            prompt=final_prompt,\n",
    "            max_tokens=token_limit)\n",
    "    return response[\"choices\"][0][\"text\"].strip()"
   ]
  },
  {
   "cell_type": "markdown",
   "id": "1783f146",
   "metadata": {},
   "source": [
    "## Custom Performance Demonstration\n"
   ]
  },
  {
   "cell_type": "markdown",
   "id": "4f11fdc0",
   "metadata": {},
   "source": [
    "### Question 1"
   ]
  },
  {
   "cell_type": "code",
   "execution_count": 105,
   "id": "4901c850",
   "metadata": {},
   "outputs": [],
   "source": [
    "Question1=\"Why did maxi skirts become a popular fashion trend in 2023?\""
   ]
  },
  {
   "cell_type": "code",
   "execution_count": 106,
   "id": "bd7a093b",
   "metadata": {},
   "outputs": [
    {
     "data": {
      "text/plain": [
       "'There are a few reasons why maxi skirts became a popular fashion trend in 2023:\\n\\n1. Comfort and Versatility: Maxi skirts are known for being comfortable and easy to wear, making them a go-to choice for many people. They are also versatile and can be dressed up or down for different occasions.\\n\\n2. Sustainable Fashion: As people become more conscious about the environmental impact of fast fashion, maxi skirts offer a more sustainable option. They can be worn for multiple seasons and can be easily styled in different ways, reducing the need to constantly buy new clothing.\\n\\n3. Bohemian Influence: The bohemian style, known for its flowy and feminine aesthetic, has been gaining popularity in recent years. Maxi skirts, with'"
      ]
     },
     "execution_count": 106,
     "metadata": {},
     "output_type": "execute_result"
    }
   ],
   "source": [
    "answer1=openai.Completion.create(model=COMPLETION_MODEL_NAME,\n",
    "            prompt=Question1,\n",
    "            max_tokens=token_limit)[\"choices\"][0][\"text\"].strip()\n",
    "answer1"
   ]
  },
  {
   "cell_type": "code",
   "execution_count": 107,
   "id": "3c6f6324",
   "metadata": {},
   "outputs": [
    {
     "name": "stderr",
     "output_type": "stream",
     "text": [
      "/tmp/ipykernel_13/937767380.py:4: FutureWarning: The behavior of `series[i:j]` with an integer-dtype index is deprecated. In a future version, this will be treated as *label-based* indexing, consistent with e.g. `series[i]` lookups. To retain the old behavior, use `series.iloc[i:j]`. To get the future behavior, use `series.loc[i:j]`.\n",
      "  top_k_candidates=df['text'].iloc[np.argsort(similaritites)][:k].to_list()\n"
     ]
    },
    {
     "data": {
      "text/plain": [
       "'The context states that maxi skirts became popular in response to the impracticality of mini skirts in 2022 and that they fit in with the cargo and denim trends. They are also described as a versatile and transitional wardrobe staple, making them popular with the rise of Y2K fashion. In addition, they were featured in the spring 2023 shows at New York Fashion Week and were praised by a Vogue Runway coordinator for their effortless and casual style. Based on this information, maxi skirts likely became popular due to their practicality, versatility, and popularity within the fashion industry.'"
      ]
     },
     "execution_count": 107,
     "metadata": {},
     "output_type": "execute_result"
    }
   ],
   "source": [
    "answer2=query_openai(Question1,df)\n",
    "answer2"
   ]
  },
  {
   "cell_type": "markdown",
   "id": "6e86e37c",
   "metadata": {},
   "source": [
    "### Question 2"
   ]
  },
  {
   "cell_type": "code",
   "execution_count": 110,
   "id": "6f646989",
   "metadata": {},
   "outputs": [],
   "source": [
    "Question2=\"Why did moto detailing become a key fashion trend in 2023?\""
   ]
  },
  {
   "cell_type": "code",
   "execution_count": 112,
   "id": "11c07a54",
   "metadata": {},
   "outputs": [
    {
     "data": {
      "text/plain": [
       "'1. Rising Interest in Adventure and Sports: Moto detailing is heavily inspired by motorcycle culture and the adventurous lifestyle associated with it. As more people are becoming interested in exploring different outdoor activities and seeking new experiences, the fashion industry has shifted its focus towards incorporating elements of adventure and sports into clothing and accessories. Thus, moto detailing has become a key trend as it embodies this sense of adventure and adds a rugged, edgy touch to fashion.\\n\\n2. Influence of Celebrity Culture: Celebrities and influencers play a significant role in shaping fashion trends. Many celebrities, such as musicians and actors, are often seen wearing moto-inspired outfits in their daily lives and on the red carpet. This has contributed to the popularization of moto detailing and has made it a staple'"
      ]
     },
     "execution_count": 112,
     "metadata": {},
     "output_type": "execute_result"
    }
   ],
   "source": [
    "answer1=openai.Completion.create(model=COMPLETION_MODEL_NAME,\n",
    "            prompt=Question2,\n",
    "            max_tokens=token_limit)[\"choices\"][0][\"text\"].strip()\n",
    "answer1"
   ]
  },
  {
   "cell_type": "code",
   "execution_count": 113,
   "id": "91de384f",
   "metadata": {},
   "outputs": [
    {
     "name": "stderr",
     "output_type": "stream",
     "text": [
      "/tmp/ipykernel_13/937767380.py:4: FutureWarning: The behavior of `series[i:j]` with an integer-dtype index is deprecated. In a future version, this will be treated as *label-based* indexing, consistent with e.g. `series[i]` lookups. To retain the old behavior, use `series.iloc[i:j]`. To get the future behavior, use `series.loc[i:j]`.\n",
      "  top_k_candidates=df['text'].iloc[np.argsort(similaritites)][:k].to_list()\n"
     ]
    },
    {
     "data": {
      "text/plain": [
       "'It became a key fashion trend because of the influence of motocross, which is seen in racing jackets, mixed leather, and buckle details on the runways.'"
      ]
     },
     "execution_count": 113,
     "metadata": {},
     "output_type": "execute_result"
    }
   ],
   "source": [
    "answer2=query_openai(Question2,df)\n",
    "answer2"
   ]
  },
  {
   "cell_type": "code",
   "execution_count": null,
   "id": "61c92a2d",
   "metadata": {},
   "outputs": [],
   "source": []
  }
 ],
 "metadata": {
  "kernelspec": {
   "display_name": "projects",
   "language": "python",
   "name": "python3"
  },
  "language_info": {
   "codemirror_mode": {
    "name": "ipython",
    "version": 3
   },
   "file_extension": ".py",
   "mimetype": "text/x-python",
   "name": "python",
   "nbconvert_exporter": "python",
   "pygments_lexer": "ipython3",
   "version": "3.12.7"
  }
 },
 "nbformat": 4,
 "nbformat_minor": 5
}
